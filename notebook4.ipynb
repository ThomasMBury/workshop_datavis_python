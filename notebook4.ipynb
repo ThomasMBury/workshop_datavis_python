{
 "cells": [
  {
   "cell_type": "markdown",
   "metadata": {},
   "source": [
    "<p style=\"text-align: right; font-size:0.8em;\"> Thomas Bury<br><a href=mailto:thomas.bury@mcgill.ca> thomas.bury@mcgill.ca </a> </p>\n",
    "<h1> Notebook 4: An introduction to Plotly Dash </h1>\n",
    "<img src='images/dash_logo.png' width='100'>\n",
    "Learning objectives of this notebook:\n",
    "\n",
    "1. Familiarise yourself with the layout of a Dash application\n",
    "2. Edit a template to create your own application\n",
    "\n",
    "<br>"
   ]
  },
  {
   "cell_type": "code",
   "execution_count": 1,
   "metadata": {},
   "outputs": [],
   "source": [
    "# Import libraries\n",
    "import numpy as np\n",
    "import pandas as pd\n",
    "import plotly.express as px\n",
    "from jupyter_dash import JupyterDash\n",
    "from dash import dcc\n",
    "from dash import html\n",
    "from dash.dependencies import Input, Output"
   ]
  },
  {
   "cell_type": "markdown",
   "metadata": {},
   "source": [
    "<br><h2> Pros and cons of using Dash over Plotly </h2>"
   ]
  },
  {
   "cell_type": "markdown",
   "metadata": {},
   "source": [
    "Pros:\n",
    "- Huge flexibility with layout akin to making a website\n",
    "- Connect multiple visualisations via callback functions\n",
    "\n",
    "Cons:\n",
    "- Code sligtly more challenging - no more one-liners\n",
    "- Cannot share as an html file - requires hosting"
   ]
  },
  {
   "cell_type": "markdown",
   "metadata": {},
   "source": [
    "<br><h2> Creating a minimal Dash app for the Covid data </h2>\n",
    "<img src='images/covid19.jpg' width='60'>\n",
    "It would take a separate workshop to teach Dash. The best way to learn it is probably to work through examples and be inspired by the <a href=https://dash-gallery.plotly.host/Portal/>Dash app gallery </a>, many of which have source code available.\n",
    "\n",
    "\n",
    "Here, we go through the steps required to create a Dash app. We use the Covid data as an example.\n"
   ]
  },
  {
   "cell_type": "markdown",
   "metadata": {},
   "source": [
    "<br><h4>1. Import and clean the data </h4>"
   ]
  },
  {
   "cell_type": "code",
   "execution_count": 2,
   "metadata": {},
   "outputs": [],
   "source": [
    "# Import data\n",
    "df_covid = pd.read_csv('datasets/covid_19_data.csv')\n",
    "# Put date of observation into 'datetime' form\n",
    "df_covid['ObservationDate'] = pd.to_datetime(df_covid['ObservationDate'])\n",
    "# Fill nan values in Province cells with string 'NA'\n",
    "df_covid['Province/State'] = df_covid['Province/State'].fillna('NA')"
   ]
  },
  {
   "cell_type": "code",
   "execution_count": 3,
   "metadata": {},
   "outputs": [
    {
     "data": {
      "text/html": [
       "<div>\n",
       "<style scoped>\n",
       "    .dataframe tbody tr th:only-of-type {\n",
       "        vertical-align: middle;\n",
       "    }\n",
       "\n",
       "    .dataframe tbody tr th {\n",
       "        vertical-align: top;\n",
       "    }\n",
       "\n",
       "    .dataframe thead th {\n",
       "        text-align: right;\n",
       "    }\n",
       "</style>\n",
       "<table border=\"1\" class=\"dataframe\">\n",
       "  <thead>\n",
       "    <tr style=\"text-align: right;\">\n",
       "      <th></th>\n",
       "      <th>SNo</th>\n",
       "      <th>ObservationDate</th>\n",
       "      <th>Province/State</th>\n",
       "      <th>Country/Region</th>\n",
       "      <th>Last Update</th>\n",
       "      <th>Confirmed</th>\n",
       "      <th>Deaths</th>\n",
       "      <th>Recovered</th>\n",
       "    </tr>\n",
       "  </thead>\n",
       "  <tbody>\n",
       "    <tr>\n",
       "      <th>0</th>\n",
       "      <td>1</td>\n",
       "      <td>2020-01-22</td>\n",
       "      <td>Anhui</td>\n",
       "      <td>Mainland China</td>\n",
       "      <td>1/22/2020 17:00</td>\n",
       "      <td>1.0</td>\n",
       "      <td>0.0</td>\n",
       "      <td>0.0</td>\n",
       "    </tr>\n",
       "    <tr>\n",
       "      <th>1</th>\n",
       "      <td>2</td>\n",
       "      <td>2020-01-22</td>\n",
       "      <td>Beijing</td>\n",
       "      <td>Mainland China</td>\n",
       "      <td>1/22/2020 17:00</td>\n",
       "      <td>14.0</td>\n",
       "      <td>0.0</td>\n",
       "      <td>0.0</td>\n",
       "    </tr>\n",
       "    <tr>\n",
       "      <th>2</th>\n",
       "      <td>3</td>\n",
       "      <td>2020-01-22</td>\n",
       "      <td>Chongqing</td>\n",
       "      <td>Mainland China</td>\n",
       "      <td>1/22/2020 17:00</td>\n",
       "      <td>6.0</td>\n",
       "      <td>0.0</td>\n",
       "      <td>0.0</td>\n",
       "    </tr>\n",
       "    <tr>\n",
       "      <th>3</th>\n",
       "      <td>4</td>\n",
       "      <td>2020-01-22</td>\n",
       "      <td>Fujian</td>\n",
       "      <td>Mainland China</td>\n",
       "      <td>1/22/2020 17:00</td>\n",
       "      <td>1.0</td>\n",
       "      <td>0.0</td>\n",
       "      <td>0.0</td>\n",
       "    </tr>\n",
       "    <tr>\n",
       "      <th>4</th>\n",
       "      <td>5</td>\n",
       "      <td>2020-01-22</td>\n",
       "      <td>Gansu</td>\n",
       "      <td>Mainland China</td>\n",
       "      <td>1/22/2020 17:00</td>\n",
       "      <td>0.0</td>\n",
       "      <td>0.0</td>\n",
       "      <td>0.0</td>\n",
       "    </tr>\n",
       "  </tbody>\n",
       "</table>\n",
       "</div>"
      ],
      "text/plain": [
       "   SNo ObservationDate Province/State  Country/Region      Last Update  \\\n",
       "0    1      2020-01-22          Anhui  Mainland China  1/22/2020 17:00   \n",
       "1    2      2020-01-22        Beijing  Mainland China  1/22/2020 17:00   \n",
       "2    3      2020-01-22      Chongqing  Mainland China  1/22/2020 17:00   \n",
       "3    4      2020-01-22         Fujian  Mainland China  1/22/2020 17:00   \n",
       "4    5      2020-01-22          Gansu  Mainland China  1/22/2020 17:00   \n",
       "\n",
       "   Confirmed  Deaths  Recovered  \n",
       "0        1.0     0.0        0.0  \n",
       "1       14.0     0.0        0.0  \n",
       "2        6.0     0.0        0.0  \n",
       "3        1.0     0.0        0.0  \n",
       "4        0.0     0.0        0.0  "
      ]
     },
     "execution_count": 3,
     "metadata": {},
     "output_type": "execute_result"
    }
   ],
   "source": [
    "df_covid.head()"
   ]
  },
  {
   "cell_type": "markdown",
   "metadata": {},
   "source": [
    "<br><br><h4>2. Write a function for each plot  </h4>\n",
    "- The code for your Dash app will be easier to write and more readable if you create functions for each plot you want to include, prior to coding the app.\n",
    "- The input should be anything you want to interactively vary in the app e.g. the country for Covid cases.\n",
    "- The output should be the Plotly figure object"
   ]
  },
  {
   "cell_type": "code",
   "execution_count": 4,
   "metadata": {},
   "outputs": [],
   "source": [
    "def make_covid_tseries(country):\n",
    "    ''' Create a Plotly figure for the confirmed cases of a country over time'''\n",
    "    \n",
    "    # Get country-specific data\n",
    "    df_plot = df_covid[df_covid['Country/Region']==country]\n",
    "    \n",
    "    # Create line plot usingn Plotly express\n",
    "    fig = px.line(df_plot,\n",
    "                 x='ObservationDate',\n",
    "                 y='Confirmed',\n",
    "                 color='Province/State'\n",
    "          ) \n",
    "    \n",
    "    # Return the figure object\n",
    "    return fig"
   ]
  },
  {
   "cell_type": "markdown",
   "metadata": {},
   "source": [
    "- Make sure to **test** the functions prior to creating the app (easier to debug this way)"
   ]
  },
  {
   "cell_type": "code",
   "execution_count": 5,
   "metadata": {},
   "outputs": [],
   "source": [
    "fig = make_covid_tseries('Mainland China')\n",
    "fig.write_html('temp.html')"
   ]
  },
  {
   "cell_type": "code",
   "execution_count": 6,
   "metadata": {},
   "outputs": [],
   "source": [
    "# Get country names for dropdown menu (sort alphabetically)\n",
    "country_names = df_covid['Country/Region'].sort_values().unique()\n",
    "country_names;"
   ]
  },
  {
   "cell_type": "markdown",
   "metadata": {},
   "source": [
    "<br><br><h4> 3. Define the app </h4>\n",
    "- Not much to do here. This sets up the app and its CSS style file. If you know CSS you can create your own template. We will just use a premade stylesheet."
   ]
  },
  {
   "cell_type": "code",
   "execution_count": 7,
   "metadata": {},
   "outputs": [],
   "source": [
    "app = JupyterDash(__name__,\n",
    "#                   external_stylesheets=['https://codepen.io/chriddyp/pen/bWLwgP.css'],\n",
    "                 )\n",
    "# Outside of Jupyter (e.g in a Python script), this would be\n",
    "# app = dash.Dash(__name__)"
   ]
  },
  {
   "cell_type": "markdown",
   "metadata": {},
   "source": [
    "<br><br><h4>4. Set the app layout </h4>\n",
    "The app layout lets us\n",
    "- Set position and dimensions of each app component (e.g plots, dropdown menus, text)\n",
    "- Assign an ID to each element of the app (important for callback functions, later)\n",
    "\n",
    "<a href=https://dash.plotly.com/layout> Plotly documentation for Dash layout </a>"
   ]
  },
  {
   "cell_type": "code",
   "execution_count": 8,
   "metadata": {},
   "outputs": [],
   "source": [
    "app.layout = html.Div([\n",
    "    \n",
    "    # Make a title\n",
    "    html.H1('Covid visualisation'),\n",
    "    \n",
    "    # Add a dropdown box\n",
    "    html.Div(\n",
    "        [\n",
    "        # Title of dropdown menu\n",
    "        html.Label('Country'),\n",
    "        # Format of dropdown menu\n",
    "        dcc.Dropdown(id='dropdown_country',\n",
    "                     options=[{'label': c, 'value': c} for c in country_names],\n",
    "                     value='Canada', # initial value\n",
    "                     optionHeight=20,\n",
    "                     searchable=False,\n",
    "                     clearable=False),\n",
    "        ]),\n",
    "                \n",
    "    # Add the plot\n",
    "    html.Div(\n",
    "        [dcc.Graph(id='covid_graph',\n",
    "                   figure = make_covid_tseries('Canada')\n",
    "                  )\n",
    "        ]\n",
    "    ),\n",
    "])"
   ]
  },
  {
   "cell_type": "markdown",
   "metadata": {},
   "source": [
    "<br><h4> 5. Define callback functions </h4>\n",
    "Callback functions make the app interactive. They say what to do when a user changes something withing the app, such as an entry in a dropdown menu.\n",
    "\n",
    "The input defines what the user interacts with to activate this function. It has the form\n",
    "<br>\n",
    "<code>Input('ID of component interacted with','value')</code>\n",
    "\n",
    "The output defines what changes when the user interacts with this component. It has the form\n",
    "<br>\n",
    "<code>Output('ID of component that changes','figure')</code>\n",
    "\n",
    "<a href=https://dash.plotly.com/basic-callbacks> Plotly documentation on basic callbacks </a>"
   ]
  },
  {
   "cell_type": "code",
   "execution_count": 9,
   "metadata": {},
   "outputs": [],
   "source": [
    "@app.callback(\n",
    "    Output('covid_graph', 'figure'),\n",
    "    [Input(\"dropdown_country\", 'value'),\n",
    "    Input(\"dropdown_country\", 'value')]\n",
    ")\n",
    "\n",
    "def update_figure(country,trange):\n",
    "    fig = make_covid_tseries(country)\n",
    "    return fig\n"
   ]
  },
  {
   "cell_type": "markdown",
   "metadata": {},
   "source": [
    "<br><h4>6. Run the app on your local server</h4>\n",
    "- mode: 'external'/'internal' - provides link to view app in browser/displays in Jupyter notebook\n",
    "- debug: True/False - display a button on the app to view error logs\n",
    "- port: Which local port (on your computer) to run the app on\n"
   ]
  },
  {
   "cell_type": "code",
   "execution_count": 10,
   "metadata": {},
   "outputs": [
    {
     "data": {
      "text/html": [
       "\n",
       "        <iframe\n",
       "            width=\"100%\"\n",
       "            height=\"650\"\n",
       "            src=\"http://127.0.0.1:8050/\"\n",
       "            frameborder=\"0\"\n",
       "            allowfullscreen\n",
       "            \n",
       "        ></iframe>\n",
       "        "
      ],
      "text/plain": [
       "<IPython.lib.display.IFrame at 0x127681ca0>"
      ]
     },
     "metadata": {},
     "output_type": "display_data"
    }
   ],
   "source": [
    "# Run app \n",
    "app.run_server(mode='inline',\n",
    "               debug=True,\n",
    "               port=8050)"
   ]
  },
  {
   "cell_type": "markdown",
   "metadata": {},
   "source": [
    "<br><h2> Choice of exercises (increasing levels of difficulty) </h2>\n",
    "\n",
    "1. Modify the above Dash app to plot Covid deaths as opposed to cases for each country.\n",
    "2. Modify the app to display only a subset of countries in the full list.\n",
    "3. Modify the graph to display a scatter plot total confirmed cases vs total deaths.\n",
    "4. Create a new dash app below using this template but for a different dataset."
   ]
  },
  {
   "cell_type": "code",
   "execution_count": null,
   "metadata": {},
   "outputs": [],
   "source": []
  },
  {
   "cell_type": "code",
   "execution_count": null,
   "metadata": {},
   "outputs": [],
   "source": []
  },
  {
   "cell_type": "code",
   "execution_count": null,
   "metadata": {},
   "outputs": [],
   "source": []
  },
  {
   "cell_type": "code",
   "execution_count": null,
   "metadata": {},
   "outputs": [],
   "source": []
  }
 ],
 "metadata": {
  "kernelspec": {
   "display_name": "Python 3 (ipykernel)",
   "language": "python",
   "name": "python3"
  },
  "language_info": {
   "codemirror_mode": {
    "name": "ipython",
    "version": 3
   },
   "file_extension": ".py",
   "mimetype": "text/x-python",
   "name": "python",
   "nbconvert_exporter": "python",
   "pygments_lexer": "ipython3",
   "version": "3.9.1"
  }
 },
 "nbformat": 4,
 "nbformat_minor": 4
}
